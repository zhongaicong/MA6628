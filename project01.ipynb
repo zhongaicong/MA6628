{
 "cells": [
  {
   "cell_type": "markdown",
   "metadata": {
    "collapsed": false
   },
   "source": [
    "## Name: Qiongyao Zhong,       SID: 55488305\n",
    "\n",
    "**Prj01** (L01)\n",
    "\n",
    "A twin prime is a prime number that is either 2 less or 2 more than another prime number, see for details here: https://en.wikipedia.org/wiki/Twin_prime\n",
    "\n",
    "- How many twin primes are bigger than one thousand but smaller than one million?\n",
    "- What is the biggest twin prime you could find?"
   ]
  },
  {
   "cell_type": "code",
   "execution_count": 1,
   "metadata": {
    "collapsed": false
   },
   "outputs": [
    {
     "name": "stdout",
     "output_type": "stream",
     "text": [
      "Total:8134\n",
      "Max twin prime:[999959, 999961]\n"
     ]
    }
   ],
   "source": [
    "def twin_prime(s0,s1): #define s0 as start number,s1 as end number\n",
    "    num0=0\n",
    "    maxnum=[]\n",
    "    count=0\n",
    "    for i in range(s0,s1):\n",
    "        t=True\n",
    "        m=i//2  #take an integar\n",
    "        for j in range(2,m+1):\n",
    "            if i%j==0:\n",
    "                t=False\n",
    "                break\n",
    "        if(t): #if i is a prime\n",
    "            if num0!=0:\n",
    "                if i-num0==2: #the definition of twin prime\n",
    "                    count=count+1\n",
    "                    maxnum=[i-2,i]\n",
    "            num0=i\n",
    "    print(\"Total:\" +str(count)+ \"\\nMax twin prime:\"+str(maxnum))\n",
    "\n",
    "twin_prime(1000,1000000)\n",
    "                    "
   ]
  }
 ],
 "metadata": {
  "kernelspec": {
   "display_name": "Python 3 (Anaconda 5)",
   "language": "python",
   "name": "anaconda5"
  },
  "language_info": {
   "codemirror_mode": {
    "name": "ipython",
    "version": 3
   },
   "file_extension": ".py",
   "mimetype": "text/x-python",
   "name": "python",
   "nbconvert_exporter": "python",
   "pygments_lexer": "ipython3",
   "version": "3.6.5"
  }
 },
 "nbformat": 4,
 "nbformat_minor": 0
}