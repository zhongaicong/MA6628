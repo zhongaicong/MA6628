{
 "cells": [
  {
   "cell_type": "markdown",
   "metadata": {
    "collapsed": false
   },
   "source": [
    "## Name: Qiongyao Zhong, SID: 55488305\n",
    "\n",
    "**Prj04**\n",
    "\n",
    "Consider the following data sets:\n",
    "\n",
    "- Today: Sep 27, 2018\n",
    "\n",
    "- Spot price: 290.68\n",
    "\n",
    "- Maturity: Dec 31, 2018\n",
    "\n",
    "- Strike: 288\n",
    "\n",
    "- rate: 0.02 (from https://www.treasury.gov/resource-center/data-chart-center/interest-rates/Pages/TextView.aspx?data=yield)\n",
    "\n",
    "- Market call price: 9.23\n",
    "\n",
    "**Todo**\n",
    "\n",
    "1. If the volatility is $30\\%$, what is the difference between BSM call price and market call price?\n",
    "2. Compute the implied volatility."
   ]
  },
  {
   "cell_type": "code",
   "execution_count": 39,
   "metadata": {
    "collapsed": false
   },
   "outputs": [
   ],
   "source": [
    "import numpy as np\n",
    "import math\n",
    "import scipy.stats as ss\n",
    "from scipy import *\n",
    "S0=290.68\n",
    "K=288\n",
    "r=0.02\n",
    "sigma=0.3\n",
    "Market_Call_Price=9.23\n",
    "Today=np.datetime64('2018-09-27')\n",
    "Maturity=np.datetime64('2018-12-31')\n",
    "T=(Maturity-Today)/np.timedelta64(1,'D')/365"
   ]
  },
  {
   "cell_type": "markdown",
   "metadata": {
    "collapsed": false
   },
   "source": [
    "###### The answer for question 1"
   ]
  },
  {
   "cell_type": "code",
   "execution_count": 40,
   "metadata": {
    "collapsed": false
   },
   "outputs": [
    {
     "name": "stdout",
     "output_type": "stream",
     "text": [
      "The difference of computed call price and market price is 10.539938\n"
     ]
    }
   ],
   "source": [
    "def BSM_call_value(S0,K,t,T,r,sigma):\n",
    "    d1=(math.log(S0/K)+(r+0.5*sigma**2)*(T-t))/(sigma*math.sqrt(T-t))\n",
    "    d2=d1-sigma*math.sqrt(T-t)\n",
    "    call_value=S0*ss.norm.cdf(d1)-math.exp(-r*(T-t))*K*ss.norm.cdf(d2)\n",
    "    return call_value\n",
    "call_value = BSM_call_value(S0, K, 0, T, r, sigma=0.3)\n",
    "print('The difference of computed call price and market price is %f' %np.abs(call_value - Market_Call_Price))"
   ]
  },
  {
   "cell_type": "markdown",
   "metadata": {
    "collapsed": false
   },
   "source": [
    "###### The answer for question 2"
   ]
  },
  {
   "cell_type": "code",
   "execution_count": 65,
   "metadata": {
    "collapsed": false
   },
   "outputs": [
    {
     "name": "stdout",
     "output_type": "stream",
     "text": [
      "Implied volatility is 0.11823407595208847\n"
     ]
    }
   ],
   "source": [
    "from scipy.optimize import leastsq\n",
    "def IVolBsm(S0, K, T, r, P0):\n",
    "    #Calculate the implied volatility by calling the ‘leastsq’ function，from the initial volatility of 0.1\n",
    "    InitVol = 0.1\n",
    "    error = lambda sigma: (BSM_call_value(S0, K, 0, T, r, sigma) - P0)**2\n",
    "    opt = leastsq(error, InitVol)\n",
    "    return opt[0]\n",
    "Implied_Volatility=IVolBsm(S0, K, T, r, Market_Call_Price)\n",
    "print('Implied volatility is', float(Implied_Volatility))"
   ]
  },
  {
   "cell_type": "code",
   "execution_count": 0,
   "metadata": {
    "collapsed": false
   },
   "outputs": [
   ],
   "source": [
   ]
  }
 ],
 "metadata": {
  "kernelspec": {
   "display_name": "Python 3 (Anaconda 5)",
   "language": "python",
   "name": "anaconda5"
  },
  "language_info": {
   "codemirror_mode": {
    "name": "ipython",
    "version": 3
   },
   "file_extension": ".py",
   "mimetype": "text/x-python",
   "name": "python",
   "nbconvert_exporter": "python",
   "pygments_lexer": "ipython3",
   "version": "3.6.5"
  }
 },
 "nbformat": 4,
 "nbformat_minor": 0
}
